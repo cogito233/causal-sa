{
 "cells": [
  {
   "cell_type": "markdown",
   "id": "7829e6e0-834a-4459-ae90-854f8b7fd530",
   "metadata": {},
   "source": [
    "# Compute general stats"
   ]
  },
  {
   "cell_type": "code",
   "execution_count": 1,
   "id": "eee30bb1-3190-4310-b487-f6d82c37bb99",
   "metadata": {},
   "outputs": [],
   "source": [
    "import re\n",
    "import pandas as pd\n",
    "import numpy as np\n",
    "import matplotlib.pyplot as plt\n",
    "import math\n",
    "import seaborn as sns\n",
    "sns.set_theme()"
   ]
  },
  {
   "cell_type": "code",
   "execution_count": 2,
   "id": "a86f238b-b335-4a8c-905c-0d6b6be6f104",
   "metadata": {},
   "outputs": [],
   "source": [
    "data_path=\"./\""
   ]
  },
  {
   "cell_type": "markdown",
   "id": "4671baec-265d-4a0c-940e-87c1b49d79c1",
   "metadata": {},
   "source": [
    "## YELP"
   ]
  },
  {
   "cell_type": "code",
   "execution_count": 3,
   "id": "93843f62-ac24-4630-a39e-016290ce744f",
   "metadata": {},
   "outputs": [],
   "source": [
    "df=pd.read_csv(data_path+\"yelp_doc_senti_true.csv\")\n",
    "df_sent_tmp=pd.read_csv(data_path+\"yelp_sent_sentiment_tmp_0609.csv\")\n",
    "df_valid_ids=pd.read_csv(data_path+\"yelp_id_text_label.csv\",encoding='utf8')"
   ]
  },
  {
   "cell_type": "code",
   "execution_count": 4,
   "id": "d45f54ac-0693-445b-a320-1d614744532d",
   "metadata": {},
   "outputs": [],
   "source": [
    "\n",
    "df=df.merge(df_sent_tmp,on='review_id',how='left')\n",
    "\n",
    "df=df_valid_ids.merge(df,on='review_id',how='left')\n",
    "\n",
    "mapping = {0: -1, 1: -0.5, 2: 0, 3: 0.5, 4: 1}\n",
    "\n",
    "df['star_s'] = df['label']+1\n",
    "df['label'] = df['label'].replace(mapping)\n",
    "\n",
    "df.label=df.label*10\n",
    "\n",
    "df=df.assign(label_peak_end_avg_abs_diff=abs(df.label-df.peak_end_avg))\n",
    "df=df.assign(label_all_sent_avg_abs_diff=abs(df.label-df.all_sent_avg))\n",
    "\n",
    "df=df.assign(pred_class=np.where(df.label_peak_end_avg_abs_diff<df.label_all_sent_avg_abs_diff,'C2','C1'))\n"
   ]
  },
  {
   "cell_type": "code",
   "execution_count": 5,
   "id": "27fe9834-6d07-4a2b-a185-683f280eb01e",
   "metadata": {},
   "outputs": [],
   "source": [
    "df_subsets=df.loc[:999,['review_id','pred_class']]\n",
    "\n",
    "df_subsets.to_csv(\"test_1k_subsets.csv\",index=False)"
   ]
  },
  {
   "cell_type": "markdown",
   "id": "d60391ba-d8bd-4ada-bdcb-f0cad6abdc6a",
   "metadata": {},
   "source": [
    "### Num datapoints"
   ]
  },
  {
   "cell_type": "code",
   "execution_count": 6,
   "id": "2eb86300-5eef-4e42-9696-6d43f4104742",
   "metadata": {},
   "outputs": [
    {
     "data": {
      "text/plain": [
       "pred_class\n",
       "C1    19557\n",
       "C2    15294\n",
       "Name: count, dtype: int64"
      ]
     },
     "execution_count": 6,
     "metadata": {},
     "output_type": "execute_result"
    }
   ],
   "source": [
    "df.pred_class.value_counts()"
   ]
  },
  {
   "cell_type": "code",
   "execution_count": 7,
   "id": "308db4de-393e-482f-b060-ead0d892cabb",
   "metadata": {},
   "outputs": [],
   "source": [
    "sentences=pd.read_csv(data_path+\"yelp_sent_senti_pred_0609.csv\")\n",
    "\n",
    "sentences=sentences.loc[sentences.sentence_id!=0]\n",
    "\n",
    "sentences=sentences.loc[~sentences.sentence_text.isna()]\n",
    "\n",
    "sentences['num_words']=sentences.sentence_text.str.split().apply(len)\n",
    "\n",
    "num_sentences=sentences.groupby(['review_id']).agg({'sentence_id':'count','num_words':np.mean}).reset_index()\n",
    "\n",
    "df=df.merge(num_sentences,on=['review_id'],how='left')"
   ]
  },
  {
   "cell_type": "code",
   "execution_count": 8,
   "id": "d5267b2b-5145-4e53-8e19-5bb6cbcaebc2",
   "metadata": {},
   "outputs": [],
   "source": [
    "def get_unique_words(text):\n",
    "    words = re.findall(r'\\b\\w+\\b', text.lower())\n",
    "    return set(words)\n",
    "\n",
    "def unique_vocab(classes=['C1','C2']):\n",
    "    unique_words = set()\n",
    "    for index, row in df.loc[df.pred_class.isin(classes)].iterrows():\n",
    "        unique_words.update(get_unique_words(row['review_text']))\n",
    "    num_unique_words = len(unique_words)\n",
    "    return num_unique_words"
   ]
  },
  {
   "cell_type": "markdown",
   "id": "4b166fa4-1e77-4418-88c4-e8c501de52ec",
   "metadata": {},
   "source": [
    "### unique vocab"
   ]
  },
  {
   "cell_type": "code",
   "execution_count": 9,
   "id": "b52d24b4-dbb8-4e74-a97a-55e34aaf7d74",
   "metadata": {},
   "outputs": [
    {
     "name": "stdout",
     "output_type": "stream",
     "text": [
      "All dataset:  64864\n",
      "C1 dataset:  48889\n",
      "C2 dataset:  44826\n"
     ]
    }
   ],
   "source": [
    "print(\"All dataset: \",unique_vocab(classes=['C1','C2']))\n",
    "print(\"C1 dataset: \",unique_vocab(classes=['C1']))\n",
    "print(\"C2 dataset: \",unique_vocab(classes=['C2']))"
   ]
  },
  {
   "cell_type": "markdown",
   "id": "4467547d-5bc5-457d-b2ea-b6938d32e571",
   "metadata": {},
   "source": [
    "### General lambdas"
   ]
  },
  {
   "cell_type": "code",
   "execution_count": 10,
   "id": "ac16093b-ff31-41ad-b08b-8bbf1f0aba8b",
   "metadata": {},
   "outputs": [
    {
     "data": {
      "text/plain": [
       "label_peak_end_avg_abs_diff     4.484211\n",
       "label_all_sent_avg_abs_diff     3.784661\n",
       "star_s                          2.932742\n",
       "sentence_id                    11.108031\n",
       "num_words                      15.525584\n",
       "dtype: float64"
      ]
     },
     "execution_count": 10,
     "metadata": {},
     "output_type": "execute_result"
    }
   ],
   "source": [
    "df.loc[:,['label_peak_end_avg_abs_diff',\n",
    "       'label_all_sent_avg_abs_diff','star_s','sentence_id','num_words']].mean()"
   ]
  },
  {
   "cell_type": "markdown",
   "id": "1412c9ec-d72a-4d11-92d7-ff8dbb605177",
   "metadata": {},
   "source": [
    "### Lambdas by group"
   ]
  },
  {
   "cell_type": "code",
   "execution_count": 11,
   "id": "e2b8a93c-a08e-47ae-80f1-f2e1fdbcde92",
   "metadata": {},
   "outputs": [
    {
     "data": {
      "text/html": [
       "<div>\n",
       "<style scoped>\n",
       "    .dataframe tbody tr th:only-of-type {\n",
       "        vertical-align: middle;\n",
       "    }\n",
       "\n",
       "    .dataframe tbody tr th {\n",
       "        vertical-align: top;\n",
       "    }\n",
       "\n",
       "    .dataframe thead th {\n",
       "        text-align: right;\n",
       "    }\n",
       "</style>\n",
       "<table border=\"1\" class=\"dataframe\">\n",
       "  <thead>\n",
       "    <tr style=\"text-align: right;\">\n",
       "      <th></th>\n",
       "      <th>label_peak_end_avg_abs_diff</th>\n",
       "      <th>label_all_sent_avg_abs_diff</th>\n",
       "      <th>star_s</th>\n",
       "      <th>sentence_id</th>\n",
       "      <th>num_words</th>\n",
       "    </tr>\n",
       "    <tr>\n",
       "      <th>pred_class</th>\n",
       "      <th></th>\n",
       "      <th></th>\n",
       "      <th></th>\n",
       "      <th></th>\n",
       "      <th></th>\n",
       "    </tr>\n",
       "  </thead>\n",
       "  <tbody>\n",
       "    <tr>\n",
       "      <th>C1</th>\n",
       "      <td>6.05</td>\n",
       "      <td>2.97</td>\n",
       "      <td>2.74</td>\n",
       "      <td>11.30</td>\n",
       "      <td>15.55</td>\n",
       "    </tr>\n",
       "    <tr>\n",
       "      <th>C2</th>\n",
       "      <td>2.48</td>\n",
       "      <td>4.83</td>\n",
       "      <td>3.18</td>\n",
       "      <td>10.87</td>\n",
       "      <td>15.49</td>\n",
       "    </tr>\n",
       "  </tbody>\n",
       "</table>\n",
       "</div>"
      ],
      "text/plain": [
       "            label_peak_end_avg_abs_diff  label_all_sent_avg_abs_diff  star_s  \\\n",
       "pred_class                                                                     \n",
       "C1                                 6.05                         2.97    2.74   \n",
       "C2                                 2.48                         4.83    3.18   \n",
       "\n",
       "            sentence_id  num_words  \n",
       "pred_class                          \n",
       "C1                11.30      15.55  \n",
       "C2                10.87      15.49  "
      ]
     },
     "execution_count": 11,
     "metadata": {},
     "output_type": "execute_result"
    }
   ],
   "source": [
    "round(df.groupby(['pred_class'])[['label_peak_end_avg_abs_diff',\n",
    "       'label_all_sent_avg_abs_diff','star_s','sentence_id','num_words']].mean(),2)"
   ]
  },
  {
   "cell_type": "markdown",
   "id": "613a0ef5-3f97-48ce-a727-fe872f5bf440",
   "metadata": {},
   "source": [
    "### PLOT"
   ]
  },
  {
   "cell_type": "code",
   "execution_count": null,
   "id": "3209e11e-6348-4f80-86ff-b1ceaa9aa89b",
   "metadata": {},
   "outputs": [],
   "source": [
    "\n",
    "plt.figure(figsize=(7, 5),  dpi = 100)\n",
    "plt.scatter(df.label_all_sent_avg_abs_diff,df.label_peak_end_avg_abs_diff, alpha=0.09,c=df.pred_class,edgecolors='none')\n",
    "plt.xlabel(\"Value of λ1\")\n",
    "plt.ylabel(\"Value of λ2\")\n",
    "plt.savefig('emotion_arc_groups_v2.pdf', format='pdf', bbox_inches='tight',dpi=100)\n",
    "#plt.ylim(0,50)\n",
    "#plt.xlim(0,50)\n",
    "plt.show()"
   ]
  },
  {
   "cell_type": "markdown",
   "id": "88ca041b-aad6-4760-9832-f9fe86f7c610",
   "metadata": {},
   "source": [
    "## AMAZON"
   ]
  },
  {
   "cell_type": "code",
   "execution_count": 12,
   "id": "94298a1b-e2f3-40e3-bd33-d3f55f195016",
   "metadata": {},
   "outputs": [],
   "source": [
    "amazon=pd.read_csv(data_path+\"amazon_doc_senti_true.csv\")\n",
    "am_sent=pd.read_csv(data_path+\"amazon_sent_senti_pred.csv\")\n",
    "am_sent_tmp=pd.read_csv(data_path+\"amazon_sent_sentiment_tmp.csv\")\n",
    "\n",
    "amazon=amazon.reset_index().loc[:,['index', 'review_text', 'true_label', 'stars']].rename(columns={'index':'review_id'})"
   ]
  },
  {
   "cell_type": "code",
   "execution_count": 13,
   "id": "b39e3346-e47d-43c4-af47-96ab5443a9a3",
   "metadata": {},
   "outputs": [],
   "source": [
    "amazon=amazon.merge(am_sent_tmp,on='review_id',how='left')\n",
    "amazon['stars_s']=amazon.stars\n",
    "amazon.stars=amazon.stars-1\n",
    "mapping = {0: -1, 1: -0.5, 2: 0, 3: 0.5, 4: 1}\n",
    "\n",
    "amazon['label'] = amazon['stars'].replace(mapping)\n",
    "\n",
    "amazon.label=amazon.label*10\n",
    "\n",
    "amazon=amazon.assign(label_peak_end_avg_abs_diff=abs(amazon.label-amazon.peak_end_avg))\n",
    "amazon=amazon.assign(label_all_sent_avg_abs_diff=abs(amazon.label-amazon.all_sent_avg))\n",
    "\n",
    "amazon=amazon.assign(pred_class=np.where(amazon.label_peak_end_avg_abs_diff<amazon.label_all_sent_avg_abs_diff,'C2','C1'))"
   ]
  },
  {
   "cell_type": "markdown",
   "id": "09cb8b92-653d-4200-96b5-97c501929527",
   "metadata": {},
   "source": [
    "### datapoints"
   ]
  },
  {
   "cell_type": "code",
   "execution_count": 14,
   "id": "08cac620-5ce6-42ef-97e0-bd7bc43aa90e",
   "metadata": {},
   "outputs": [
    {
     "data": {
      "text/plain": [
       "pred_class\n",
       "C1    1393\n",
       "C2    1189\n",
       "Name: count, dtype: int64"
      ]
     },
     "execution_count": 14,
     "metadata": {},
     "output_type": "execute_result"
    }
   ],
   "source": [
    "amazon.pred_class.value_counts()"
   ]
  },
  {
   "cell_type": "code",
   "execution_count": 15,
   "id": "aa11d9f0-e7e7-4151-9754-dd33b1cfc085",
   "metadata": {},
   "outputs": [
    {
     "data": {
      "text/plain": [
       "(2582, 14)"
      ]
     },
     "execution_count": 15,
     "metadata": {},
     "output_type": "execute_result"
    }
   ],
   "source": [
    "amazon.shape"
   ]
  },
  {
   "cell_type": "code",
   "execution_count": 16,
   "id": "6b05e09f-a358-404c-9171-2962aa4140ce",
   "metadata": {},
   "outputs": [],
   "source": [
    "am_sent=am_sent.loc[am_sent.sentence_id!=0]\n",
    "\n",
    "am_sent=am_sent.loc[~am_sent.sentence_text.isna()]\n",
    "am_sent['num_words']=am_sent.sentence_text.str.split().apply(len)\n",
    "\n",
    "am_num_sentences=am_sent.groupby(['review_id']).agg({'sentence_id':'count','num_words':np.mean}).reset_index()"
   ]
  },
  {
   "cell_type": "code",
   "execution_count": 17,
   "id": "20653d4c-be15-4335-aaf4-a22c3ff408ff",
   "metadata": {},
   "outputs": [],
   "source": [
    "def unique_vocab(classes=['C1','C2']):\n",
    "    unique_words = set()\n",
    "    for index, row in amazon.loc[amazon.pred_class.isin(classes)].iterrows():\n",
    "        unique_words.update(get_unique_words(row['review_text']))\n",
    "    num_unique_words = len(unique_words)\n",
    "    return num_unique_words"
   ]
  },
  {
   "cell_type": "markdown",
   "id": "fdb84946-2b97-43f5-b819-ab7240d36065",
   "metadata": {},
   "source": [
    "### unique vocab"
   ]
  },
  {
   "cell_type": "code",
   "execution_count": 18,
   "id": "53bbb7a7-0f1c-4762-8393-b88190506bf7",
   "metadata": {},
   "outputs": [
    {
     "name": "stdout",
     "output_type": "stream",
     "text": [
      "All dataset:  10271\n",
      "C1 dataset:  7609\n",
      "C2 dataset:  7049\n"
     ]
    }
   ],
   "source": [
    "print(\"All dataset: \",unique_vocab(classes=['C1','C2']))\n",
    "print(\"C1 dataset: \",unique_vocab(classes=['C1']))\n",
    "print(\"C2 dataset: \",unique_vocab(classes=['C2']))"
   ]
  },
  {
   "cell_type": "markdown",
   "id": "fbeac831-5f1e-4d11-8b51-3f2ae8b1f042",
   "metadata": {},
   "source": [
    "### General lambdas"
   ]
  },
  {
   "cell_type": "code",
   "execution_count": 19,
   "id": "78c5309e-1a5e-403e-aff4-e050712323fa",
   "metadata": {},
   "outputs": [],
   "source": [
    "amazon=amazon.merge(am_num_sentences,on=['review_id'],how='left')"
   ]
  },
  {
   "cell_type": "code",
   "execution_count": 20,
   "id": "660fb064-e1f7-4baf-bc2a-e0fd8064f850",
   "metadata": {},
   "outputs": [
    {
     "data": {
      "text/plain": [
       "label_peak_end_avg_abs_diff     4.214259\n",
       "label_all_sent_avg_abs_diff     3.765537\n",
       "stars_s                         2.936871\n",
       "sentence_id                     6.702556\n",
       "num_words                      11.044613\n",
       "dtype: float64"
      ]
     },
     "execution_count": 20,
     "metadata": {},
     "output_type": "execute_result"
    }
   ],
   "source": [
    "amazon.loc[:,['label_peak_end_avg_abs_diff',\n",
    "       'label_all_sent_avg_abs_diff','stars_s','sentence_id','num_words']].mean()"
   ]
  },
  {
   "cell_type": "markdown",
   "id": "8d66e7e3-ac05-4ce2-8322-dfae6547bbdb",
   "metadata": {},
   "source": [
    "### Lambdas by group"
   ]
  },
  {
   "cell_type": "code",
   "execution_count": 21,
   "id": "3d9124a8-e69d-4bf7-babc-f760863e8300",
   "metadata": {},
   "outputs": [
    {
     "data": {
      "text/html": [
       "<div>\n",
       "<style scoped>\n",
       "    .dataframe tbody tr th:only-of-type {\n",
       "        vertical-align: middle;\n",
       "    }\n",
       "\n",
       "    .dataframe tbody tr th {\n",
       "        vertical-align: top;\n",
       "    }\n",
       "\n",
       "    .dataframe thead th {\n",
       "        text-align: right;\n",
       "    }\n",
       "</style>\n",
       "<table border=\"1\" class=\"dataframe\">\n",
       "  <thead>\n",
       "    <tr style=\"text-align: right;\">\n",
       "      <th></th>\n",
       "      <th>label_peak_end_avg_abs_diff</th>\n",
       "      <th>label_all_sent_avg_abs_diff</th>\n",
       "      <th>stars_s</th>\n",
       "      <th>sentence_id</th>\n",
       "      <th>num_words</th>\n",
       "    </tr>\n",
       "    <tr>\n",
       "      <th>pred_class</th>\n",
       "      <th></th>\n",
       "      <th></th>\n",
       "      <th></th>\n",
       "      <th></th>\n",
       "      <th></th>\n",
       "    </tr>\n",
       "  </thead>\n",
       "  <tbody>\n",
       "    <tr>\n",
       "      <th>C1</th>\n",
       "      <td>5.72</td>\n",
       "      <td>3.10</td>\n",
       "      <td>2.82</td>\n",
       "      <td>6.62</td>\n",
       "      <td>11.28</td>\n",
       "    </tr>\n",
       "    <tr>\n",
       "      <th>C2</th>\n",
       "      <td>2.45</td>\n",
       "      <td>4.55</td>\n",
       "      <td>3.07</td>\n",
       "      <td>6.80</td>\n",
       "      <td>10.77</td>\n",
       "    </tr>\n",
       "  </tbody>\n",
       "</table>\n",
       "</div>"
      ],
      "text/plain": [
       "            label_peak_end_avg_abs_diff  label_all_sent_avg_abs_diff  stars_s  \\\n",
       "pred_class                                                                      \n",
       "C1                                 5.72                         3.10     2.82   \n",
       "C2                                 2.45                         4.55     3.07   \n",
       "\n",
       "            sentence_id  num_words  \n",
       "pred_class                          \n",
       "C1                 6.62      11.28  \n",
       "C2                 6.80      10.77  "
      ]
     },
     "execution_count": 21,
     "metadata": {},
     "output_type": "execute_result"
    }
   ],
   "source": [
    "round(amazon.groupby(['pred_class'])[['label_peak_end_avg_abs_diff',\n",
    "       'label_all_sent_avg_abs_diff','stars_s','sentence_id','num_words']].mean(),2)"
   ]
  },
  {
   "cell_type": "markdown",
   "id": "931b9039-d1dc-49c0-8001-7fec0d400c44",
   "metadata": {},
   "source": [
    "### PLOT"
   ]
  },
  {
   "cell_type": "code",
   "execution_count": null,
   "id": "2ae0e69e-6ef6-4cc9-8b9d-04498a59bbd9",
   "metadata": {},
   "outputs": [],
   "source": [
    "plt.figure(figsize=(7, 5),  dpi = 100)\n",
    "plt.scatter(amazon.label_all_sent_avg_abs_diff,amazon.label_peak_end_avg_abs_diff, alpha=0.09,c=amazon.pred_class,edgecolors='none')\n",
    "plt.xlabel(\"Value of λ1\")\n",
    "plt.ylabel(\"Value of λ2\")\n",
    "plt.savefig('emotion_arc_groups.pdf', format='pdf', bbox_inches='tight',dpi=100)\n",
    "#plt.ylim(0,50)\n",
    "#plt.xlim(0,50)\n",
    "plt.show()"
   ]
  }
 ],
 "metadata": {
  "kernelspec": {
   "display_name": "Python 3 (ipykernel)",
   "language": "python",
   "name": "python3"
  },
  "language_info": {
   "codemirror_mode": {
    "name": "ipython",
    "version": 3
   },
   "file_extension": ".py",
   "mimetype": "text/x-python",
   "name": "python",
   "nbconvert_exporter": "python",
   "pygments_lexer": "ipython3",
   "version": "3.8.16"
  }
 },
 "nbformat": 4,
 "nbformat_minor": 5
}
